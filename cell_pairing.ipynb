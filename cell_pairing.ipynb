{
 "cells": [
  {
   "cell_type": "code",
   "id": "initial_id",
   "metadata": {
    "collapsed": true,
    "ExecuteTime": {
     "end_time": "2025-05-28T00:08:06.031361Z",
     "start_time": "2025-05-28T00:08:04.372829Z"
    }
   },
   "source": [
    "import scanpy as sc\n",
    "import numpy as np\n",
    "import pandas as pd"
   ],
   "outputs": [],
   "execution_count": 1
  },
  {
   "metadata": {
    "ExecuteTime": {
     "end_time": "2025-05-28T00:08:06.091957Z",
     "start_time": "2025-05-28T00:08:06.088795Z"
    }
   },
   "cell_type": "code",
   "source": "data_prefix = '/users/dgibbs/Work/CRUK/py-sc-niches/data/'",
   "id": "e411004eb3b99aef",
   "outputs": [],
   "execution_count": 2
  },
  {
   "metadata": {
    "ExecuteTime": {
     "end_time": "2025-05-28T00:08:52.629986Z",
     "start_time": "2025-05-28T00:08:51.930424Z"
    }
   },
   "cell_type": "code",
   "source": "q = sc.read_h5ad(data_prefix+'../../gastric_fibs_and_epi0_4.h5ad')",
   "id": "666467b549544bf3",
   "outputs": [],
   "execution_count": 6
  },
  {
   "metadata": {
    "ExecuteTime": {
     "end_time": "2025-05-28T00:08:57.923526Z",
     "start_time": "2025-05-28T00:08:57.910887Z"
    }
   },
   "cell_type": "code",
   "source": "q",
   "id": "f51a1bfe01bf4252",
   "outputs": [
    {
     "data": {
      "text/plain": [
       "AnnData object with n_obs × n_vars = 34883 × 35606\n",
       "    obs: 'Cell_ID', 'samplename', 'Expressed Genes', 'n_molecules', 'doublet_score', 'Percent Mitochond.', 'leiden', 'Louvain Cluster', 'diagnosis', 'phase', 'sample_diagnosis', 'patient', 'nobatch_leiden', 'nobatch_louvain', 'clusters', 'diagnosis_class', 'Fb_Subtype', 'sample_name', 'major_cell_types', 'diagnosis_pathologist', 'diagnosis_major_celltype', 'diagnosis_minor_celltype', 'diagnosis_H&E', 'CancerType', 'Fine_Grained_Cell_Labels'"
      ]
     },
     "execution_count": 7,
     "metadata": {},
     "output_type": "execute_result"
    }
   ],
   "execution_count": 7
  },
  {
   "metadata": {
    "ExecuteTime": {
     "end_time": "2025-05-28T00:34:42.375892Z",
     "start_time": "2025-05-28T00:34:42.363112Z"
    }
   },
   "cell_type": "code",
   "source": "q.obs.major_cell_types.value_counts()",
   "id": "9bf2744dd27d8abe",
   "outputs": [
    {
     "data": {
      "text/plain": [
       "major_cell_types\n",
       "surface_cell                 9941\n",
       "IM_cell                      5790\n",
       "isthmic_progenitor           5532\n",
       "spem_mucus_neck_cells        2874\n",
       "chief_cell                   2368\n",
       "enteroendocrine_cell         2106\n",
       "dysplastic_cancer            1744\n",
       "other                        1101\n",
       "transdifferentiating_cell     384\n",
       "parietal_cell                 334\n",
       "Name: count, dtype: int64"
      ]
     },
     "execution_count": 37,
     "metadata": {},
     "output_type": "execute_result"
    }
   ],
   "execution_count": 37
  },
  {
   "metadata": {
    "ExecuteTime": {
     "end_time": "2025-05-28T00:36:28.512102Z",
     "start_time": "2025-05-28T00:36:28.455533Z"
    }
   },
   "cell_type": "code",
   "source": [
    "def subsample_balanced(adata, group_key, n_per_group=None, random_state=42):\n",
    "    \"\"\"Subsample an AnnData object so that each group in `group_key` has equal cell count.\"\"\"\n",
    "    groups = adata.obs[group_key]\n",
    "    rng = np.random.default_rng(seed=random_state)\n",
    "\n",
    "    # Determine number to sample per group\n",
    "    group_sizes = groups.value_counts()\n",
    "    min_group_size = group_sizes.min()\n",
    "    n = min_group_size if n_per_group is None else min(n_per_group, min_group_size)\n",
    "\n",
    "    # Sample indices per group\n",
    "    sampled_indices = []\n",
    "    for g in group_sizes.index:\n",
    "        idx = adata.obs[adata.obs[group_key] == g].index\n",
    "        sampled = rng.choice(idx, size=n, replace=False)\n",
    "        sampled_indices.extend(sampled)\n",
    "\n",
    "    # Return new AnnData object\n",
    "    return adata[sampled_indices].copy()\n",
    "\n",
    "qsamp = subsample_balanced(q, 'major_cell_types', n_per_group=100)"
   ],
   "id": "44c2caaeadd9d320",
   "outputs": [],
   "execution_count": 39
  },
  {
   "metadata": {
    "ExecuteTime": {
     "end_time": "2025-05-28T00:36:40.241271Z",
     "start_time": "2025-05-28T00:36:40.227551Z"
    }
   },
   "cell_type": "code",
   "source": "qsamp.obs.major_cell_types.value_counts()",
   "id": "3bb4ad19d2e0bfc",
   "outputs": [
    {
     "data": {
      "text/plain": [
       "major_cell_types\n",
       "IM_cell                      100\n",
       "chief_cell                   100\n",
       "dysplastic_cancer            100\n",
       "enteroendocrine_cell         100\n",
       "isthmic_progenitor           100\n",
       "other                        100\n",
       "parietal_cell                100\n",
       "spem_mucus_neck_cells        100\n",
       "surface_cell                 100\n",
       "transdifferentiating_cell    100\n",
       "Name: count, dtype: int64"
      ]
     },
     "execution_count": 40,
     "metadata": {},
     "output_type": "execute_result"
    }
   ],
   "execution_count": 40
  },
  {
   "metadata": {
    "ExecuteTime": {
     "end_time": "2025-05-28T00:08:58.204068Z",
     "start_time": "2025-05-28T00:08:58.154479Z"
    }
   },
   "cell_type": "code",
   "source": "q.obs",
   "id": "8e610a72ad721247",
   "outputs": [
    {
     "data": {
      "text/plain": [
       "                     Cell_ID samplename  Expressed Genes  n_molecules  \\\n",
       "0      AACACACCATTGCTGA-G08B       G08B             6544      25638.0   \n",
       "1      AACCATGTCCGCTTAC-G08B       G08B             1717       2775.0   \n",
       "2      AATGAAGAGAAGTCAT-G08B       G08B             1512       3048.0   \n",
       "3      ACTTTGTTCTCTAGGA-G08B       G08B             3822      11907.0   \n",
       "4      AGCCAATAGGGAACAA-G08B       G08B             4281      14539.0   \n",
       "...                      ...        ...              ...          ...   \n",
       "32169                  32169        NaN             6797      26104.0   \n",
       "32170                  32170        NaN             1175       3131.0   \n",
       "32171                  32171        NaN             1038       1493.0   \n",
       "32172                  32172        NaN             7393      52382.0   \n",
       "32173                  32173        NaN             5450      24828.0   \n",
       "\n",
       "       doublet_score  Percent Mitochond.  leiden  Louvain Cluster diagnosis  \\\n",
       "0           0.083463            0.022974       4                4     Tumor   \n",
       "1           0.077979            0.002883      11                3     Tumor   \n",
       "2           0.096688            0.010827      21                3     Tumor   \n",
       "3           0.125093            0.001596      10                6     Tumor   \n",
       "4           0.089651            0.002476      16                6     Tumor   \n",
       "...              ...                 ...     ...              ...       ...   \n",
       "32169       0.088235            0.130248      12               13       NaN   \n",
       "32170       0.026465            0.184606       0                0       NaN   \n",
       "32171       0.037244            0.008707       5                7       NaN   \n",
       "32172       0.088235            0.131133      11               12       NaN   \n",
       "32173       0.091261            0.183100       2                1       NaN   \n",
       "\n",
       "      phase  ...  diagnosis_class Fb_Subtype  sample_name  \\\n",
       "0        G1  ...  dysplasia_tumor       FbS1          NaN   \n",
       "1        G1  ...  dysplasia_tumor       FbS1          NaN   \n",
       "2        G1  ...  dysplasia_tumor        NaN          NaN   \n",
       "3        G1  ...  dysplasia_tumor       FbS1          NaN   \n",
       "4        G1  ...  dysplasia_tumor       FbS1          NaN   \n",
       "...     ...  ...              ...        ...          ...   \n",
       "32169    G1  ...              NaN        NaN         G06A   \n",
       "32170    G1  ...              NaN        NaN         G06A   \n",
       "32171   G2M  ...              NaN        NaN         G06A   \n",
       "32172    G1  ...              NaN        NaN         G06A   \n",
       "32173    G1  ...              NaN        NaN         G06A   \n",
       "\n",
       "            major_cell_types diagnosis_pathologist diagnosis_major_celltype  \\\n",
       "0                        NaN                   NaN                      NaN   \n",
       "1                        NaN                   NaN                      NaN   \n",
       "2                        NaN                   NaN                      NaN   \n",
       "3                        NaN                   NaN                      NaN   \n",
       "4                        NaN                   NaN                      NaN   \n",
       "...                      ...                   ...                      ...   \n",
       "32169   enteroendocrine_cell  Metaplasia/Dysplasia                       IM   \n",
       "32170           surface_cell  Metaplasia/Dysplasia                       IM   \n",
       "32171                IM_cell  Metaplasia/Dysplasia                       IM   \n",
       "32172      dysplastic_cancer  Metaplasia/Dysplasia                       IM   \n",
       "32173  spem_mucus_neck_cells  Metaplasia/Dysplasia                       IM   \n",
       "\n",
       "      diagnosis_minor_celltype diagnosis_H&E       CancerType  \\\n",
       "0                          NaN           NaN              NaN   \n",
       "1                          NaN           NaN              NaN   \n",
       "2                          NaN           NaN              NaN   \n",
       "3                          NaN           NaN              NaN   \n",
       "4                          NaN           NaN              NaN   \n",
       "...                        ...           ...              ...   \n",
       "32169                     SPEM            IM  intestinal-type   \n",
       "32170                     SPEM            IM  intestinal-type   \n",
       "32171                     SPEM            IM  intestinal-type   \n",
       "32172                     SPEM            IM  intestinal-type   \n",
       "32173                     SPEM            IM  intestinal-type   \n",
       "\n",
       "                                Fine_Grained_Cell_Labels  \n",
       "0                                                    NaN  \n",
       "1                                                    NaN  \n",
       "2                                                    NaN  \n",
       "3                                                    NaN  \n",
       "4                                                    NaN  \n",
       "...                                                  ...  \n",
       "32169      Enteroendocrine (ghrelin, SST, gastrin) cells  \n",
       "32170                                      Surface cells  \n",
       "32171  Intestinal metaplasia (IM) Intermediate cells ...  \n",
       "32172               Dysplastic cells (TACSTD2+ CEACAMS+)  \n",
       "32173  Spasmolytic polypeptide-expressing metaplasia ...  \n",
       "\n",
       "[34883 rows x 25 columns]"
      ],
      "text/html": [
       "<div>\n",
       "<style scoped>\n",
       "    .dataframe tbody tr th:only-of-type {\n",
       "        vertical-align: middle;\n",
       "    }\n",
       "\n",
       "    .dataframe tbody tr th {\n",
       "        vertical-align: top;\n",
       "    }\n",
       "\n",
       "    .dataframe thead th {\n",
       "        text-align: right;\n",
       "    }\n",
       "</style>\n",
       "<table border=\"1\" class=\"dataframe\">\n",
       "  <thead>\n",
       "    <tr style=\"text-align: right;\">\n",
       "      <th></th>\n",
       "      <th>Cell_ID</th>\n",
       "      <th>samplename</th>\n",
       "      <th>Expressed Genes</th>\n",
       "      <th>n_molecules</th>\n",
       "      <th>doublet_score</th>\n",
       "      <th>Percent Mitochond.</th>\n",
       "      <th>leiden</th>\n",
       "      <th>Louvain Cluster</th>\n",
       "      <th>diagnosis</th>\n",
       "      <th>phase</th>\n",
       "      <th>...</th>\n",
       "      <th>diagnosis_class</th>\n",
       "      <th>Fb_Subtype</th>\n",
       "      <th>sample_name</th>\n",
       "      <th>major_cell_types</th>\n",
       "      <th>diagnosis_pathologist</th>\n",
       "      <th>diagnosis_major_celltype</th>\n",
       "      <th>diagnosis_minor_celltype</th>\n",
       "      <th>diagnosis_H&amp;E</th>\n",
       "      <th>CancerType</th>\n",
       "      <th>Fine_Grained_Cell_Labels</th>\n",
       "    </tr>\n",
       "  </thead>\n",
       "  <tbody>\n",
       "    <tr>\n",
       "      <th>0</th>\n",
       "      <td>AACACACCATTGCTGA-G08B</td>\n",
       "      <td>G08B</td>\n",
       "      <td>6544</td>\n",
       "      <td>25638.0</td>\n",
       "      <td>0.083463</td>\n",
       "      <td>0.022974</td>\n",
       "      <td>4</td>\n",
       "      <td>4</td>\n",
       "      <td>Tumor</td>\n",
       "      <td>G1</td>\n",
       "      <td>...</td>\n",
       "      <td>dysplasia_tumor</td>\n",
       "      <td>FbS1</td>\n",
       "      <td>NaN</td>\n",
       "      <td>NaN</td>\n",
       "      <td>NaN</td>\n",
       "      <td>NaN</td>\n",
       "      <td>NaN</td>\n",
       "      <td>NaN</td>\n",
       "      <td>NaN</td>\n",
       "      <td>NaN</td>\n",
       "    </tr>\n",
       "    <tr>\n",
       "      <th>1</th>\n",
       "      <td>AACCATGTCCGCTTAC-G08B</td>\n",
       "      <td>G08B</td>\n",
       "      <td>1717</td>\n",
       "      <td>2775.0</td>\n",
       "      <td>0.077979</td>\n",
       "      <td>0.002883</td>\n",
       "      <td>11</td>\n",
       "      <td>3</td>\n",
       "      <td>Tumor</td>\n",
       "      <td>G1</td>\n",
       "      <td>...</td>\n",
       "      <td>dysplasia_tumor</td>\n",
       "      <td>FbS1</td>\n",
       "      <td>NaN</td>\n",
       "      <td>NaN</td>\n",
       "      <td>NaN</td>\n",
       "      <td>NaN</td>\n",
       "      <td>NaN</td>\n",
       "      <td>NaN</td>\n",
       "      <td>NaN</td>\n",
       "      <td>NaN</td>\n",
       "    </tr>\n",
       "    <tr>\n",
       "      <th>2</th>\n",
       "      <td>AATGAAGAGAAGTCAT-G08B</td>\n",
       "      <td>G08B</td>\n",
       "      <td>1512</td>\n",
       "      <td>3048.0</td>\n",
       "      <td>0.096688</td>\n",
       "      <td>0.010827</td>\n",
       "      <td>21</td>\n",
       "      <td>3</td>\n",
       "      <td>Tumor</td>\n",
       "      <td>G1</td>\n",
       "      <td>...</td>\n",
       "      <td>dysplasia_tumor</td>\n",
       "      <td>NaN</td>\n",
       "      <td>NaN</td>\n",
       "      <td>NaN</td>\n",
       "      <td>NaN</td>\n",
       "      <td>NaN</td>\n",
       "      <td>NaN</td>\n",
       "      <td>NaN</td>\n",
       "      <td>NaN</td>\n",
       "      <td>NaN</td>\n",
       "    </tr>\n",
       "    <tr>\n",
       "      <th>3</th>\n",
       "      <td>ACTTTGTTCTCTAGGA-G08B</td>\n",
       "      <td>G08B</td>\n",
       "      <td>3822</td>\n",
       "      <td>11907.0</td>\n",
       "      <td>0.125093</td>\n",
       "      <td>0.001596</td>\n",
       "      <td>10</td>\n",
       "      <td>6</td>\n",
       "      <td>Tumor</td>\n",
       "      <td>G1</td>\n",
       "      <td>...</td>\n",
       "      <td>dysplasia_tumor</td>\n",
       "      <td>FbS1</td>\n",
       "      <td>NaN</td>\n",
       "      <td>NaN</td>\n",
       "      <td>NaN</td>\n",
       "      <td>NaN</td>\n",
       "      <td>NaN</td>\n",
       "      <td>NaN</td>\n",
       "      <td>NaN</td>\n",
       "      <td>NaN</td>\n",
       "    </tr>\n",
       "    <tr>\n",
       "      <th>4</th>\n",
       "      <td>AGCCAATAGGGAACAA-G08B</td>\n",
       "      <td>G08B</td>\n",
       "      <td>4281</td>\n",
       "      <td>14539.0</td>\n",
       "      <td>0.089651</td>\n",
       "      <td>0.002476</td>\n",
       "      <td>16</td>\n",
       "      <td>6</td>\n",
       "      <td>Tumor</td>\n",
       "      <td>G1</td>\n",
       "      <td>...</td>\n",
       "      <td>dysplasia_tumor</td>\n",
       "      <td>FbS1</td>\n",
       "      <td>NaN</td>\n",
       "      <td>NaN</td>\n",
       "      <td>NaN</td>\n",
       "      <td>NaN</td>\n",
       "      <td>NaN</td>\n",
       "      <td>NaN</td>\n",
       "      <td>NaN</td>\n",
       "      <td>NaN</td>\n",
       "    </tr>\n",
       "    <tr>\n",
       "      <th>...</th>\n",
       "      <td>...</td>\n",
       "      <td>...</td>\n",
       "      <td>...</td>\n",
       "      <td>...</td>\n",
       "      <td>...</td>\n",
       "      <td>...</td>\n",
       "      <td>...</td>\n",
       "      <td>...</td>\n",
       "      <td>...</td>\n",
       "      <td>...</td>\n",
       "      <td>...</td>\n",
       "      <td>...</td>\n",
       "      <td>...</td>\n",
       "      <td>...</td>\n",
       "      <td>...</td>\n",
       "      <td>...</td>\n",
       "      <td>...</td>\n",
       "      <td>...</td>\n",
       "      <td>...</td>\n",
       "      <td>...</td>\n",
       "      <td>...</td>\n",
       "    </tr>\n",
       "    <tr>\n",
       "      <th>32169</th>\n",
       "      <td>32169</td>\n",
       "      <td>NaN</td>\n",
       "      <td>6797</td>\n",
       "      <td>26104.0</td>\n",
       "      <td>0.088235</td>\n",
       "      <td>0.130248</td>\n",
       "      <td>12</td>\n",
       "      <td>13</td>\n",
       "      <td>NaN</td>\n",
       "      <td>G1</td>\n",
       "      <td>...</td>\n",
       "      <td>NaN</td>\n",
       "      <td>NaN</td>\n",
       "      <td>G06A</td>\n",
       "      <td>enteroendocrine_cell</td>\n",
       "      <td>Metaplasia/Dysplasia</td>\n",
       "      <td>IM</td>\n",
       "      <td>SPEM</td>\n",
       "      <td>IM</td>\n",
       "      <td>intestinal-type</td>\n",
       "      <td>Enteroendocrine (ghrelin, SST, gastrin) cells</td>\n",
       "    </tr>\n",
       "    <tr>\n",
       "      <th>32170</th>\n",
       "      <td>32170</td>\n",
       "      <td>NaN</td>\n",
       "      <td>1175</td>\n",
       "      <td>3131.0</td>\n",
       "      <td>0.026465</td>\n",
       "      <td>0.184606</td>\n",
       "      <td>0</td>\n",
       "      <td>0</td>\n",
       "      <td>NaN</td>\n",
       "      <td>G1</td>\n",
       "      <td>...</td>\n",
       "      <td>NaN</td>\n",
       "      <td>NaN</td>\n",
       "      <td>G06A</td>\n",
       "      <td>surface_cell</td>\n",
       "      <td>Metaplasia/Dysplasia</td>\n",
       "      <td>IM</td>\n",
       "      <td>SPEM</td>\n",
       "      <td>IM</td>\n",
       "      <td>intestinal-type</td>\n",
       "      <td>Surface cells</td>\n",
       "    </tr>\n",
       "    <tr>\n",
       "      <th>32171</th>\n",
       "      <td>32171</td>\n",
       "      <td>NaN</td>\n",
       "      <td>1038</td>\n",
       "      <td>1493.0</td>\n",
       "      <td>0.037244</td>\n",
       "      <td>0.008707</td>\n",
       "      <td>5</td>\n",
       "      <td>7</td>\n",
       "      <td>NaN</td>\n",
       "      <td>G2M</td>\n",
       "      <td>...</td>\n",
       "      <td>NaN</td>\n",
       "      <td>NaN</td>\n",
       "      <td>G06A</td>\n",
       "      <td>IM_cell</td>\n",
       "      <td>Metaplasia/Dysplasia</td>\n",
       "      <td>IM</td>\n",
       "      <td>SPEM</td>\n",
       "      <td>IM</td>\n",
       "      <td>intestinal-type</td>\n",
       "      <td>Intestinal metaplasia (IM) Intermediate cells ...</td>\n",
       "    </tr>\n",
       "    <tr>\n",
       "      <th>32172</th>\n",
       "      <td>32172</td>\n",
       "      <td>NaN</td>\n",
       "      <td>7393</td>\n",
       "      <td>52382.0</td>\n",
       "      <td>0.088235</td>\n",
       "      <td>0.131133</td>\n",
       "      <td>11</td>\n",
       "      <td>12</td>\n",
       "      <td>NaN</td>\n",
       "      <td>G1</td>\n",
       "      <td>...</td>\n",
       "      <td>NaN</td>\n",
       "      <td>NaN</td>\n",
       "      <td>G06A</td>\n",
       "      <td>dysplastic_cancer</td>\n",
       "      <td>Metaplasia/Dysplasia</td>\n",
       "      <td>IM</td>\n",
       "      <td>SPEM</td>\n",
       "      <td>IM</td>\n",
       "      <td>intestinal-type</td>\n",
       "      <td>Dysplastic cells (TACSTD2+ CEACAMS+)</td>\n",
       "    </tr>\n",
       "    <tr>\n",
       "      <th>32173</th>\n",
       "      <td>32173</td>\n",
       "      <td>NaN</td>\n",
       "      <td>5450</td>\n",
       "      <td>24828.0</td>\n",
       "      <td>0.091261</td>\n",
       "      <td>0.183100</td>\n",
       "      <td>2</td>\n",
       "      <td>1</td>\n",
       "      <td>NaN</td>\n",
       "      <td>G1</td>\n",
       "      <td>...</td>\n",
       "      <td>NaN</td>\n",
       "      <td>NaN</td>\n",
       "      <td>G06A</td>\n",
       "      <td>spem_mucus_neck_cells</td>\n",
       "      <td>Metaplasia/Dysplasia</td>\n",
       "      <td>IM</td>\n",
       "      <td>SPEM</td>\n",
       "      <td>IM</td>\n",
       "      <td>intestinal-type</td>\n",
       "      <td>Spasmolytic polypeptide-expressing metaplasia ...</td>\n",
       "    </tr>\n",
       "  </tbody>\n",
       "</table>\n",
       "<p>34883 rows × 25 columns</p>\n",
       "</div>"
      ]
     },
     "execution_count": 8,
     "metadata": {},
     "output_type": "execute_result"
    }
   ],
   "execution_count": 8
  },
  {
   "metadata": {
    "ExecuteTime": {
     "end_time": "2025-05-28T00:08:59.228591Z",
     "start_time": "2025-05-28T00:08:59.217080Z"
    }
   },
   "cell_type": "code",
   "source": "q.var.head()",
   "id": "d8da5155580a1ada",
   "outputs": [
    {
     "data": {
      "text/plain": [
       "Empty DataFrame\n",
       "Columns: []\n",
       "Index: [A1BG, A1CF, A2M, A2ML1, A2MP1]"
      ],
      "text/html": [
       "<div>\n",
       "<style scoped>\n",
       "    .dataframe tbody tr th:only-of-type {\n",
       "        vertical-align: middle;\n",
       "    }\n",
       "\n",
       "    .dataframe tbody tr th {\n",
       "        vertical-align: top;\n",
       "    }\n",
       "\n",
       "    .dataframe thead th {\n",
       "        text-align: right;\n",
       "    }\n",
       "</style>\n",
       "<table border=\"1\" class=\"dataframe\">\n",
       "  <thead>\n",
       "    <tr style=\"text-align: right;\">\n",
       "      <th></th>\n",
       "    </tr>\n",
       "  </thead>\n",
       "  <tbody>\n",
       "    <tr>\n",
       "      <th>A1BG</th>\n",
       "    </tr>\n",
       "    <tr>\n",
       "      <th>A1CF</th>\n",
       "    </tr>\n",
       "    <tr>\n",
       "      <th>A2M</th>\n",
       "    </tr>\n",
       "    <tr>\n",
       "      <th>A2ML1</th>\n",
       "    </tr>\n",
       "    <tr>\n",
       "      <th>A2MP1</th>\n",
       "    </tr>\n",
       "  </tbody>\n",
       "</table>\n",
       "</div>"
      ]
     },
     "execution_count": 9,
     "metadata": {},
     "output_type": "execute_result"
    }
   ],
   "execution_count": 9
  },
  {
   "metadata": {
    "ExecuteTime": {
     "end_time": "2025-05-27T21:27:27.609396Z",
     "start_time": "2025-05-27T21:27:27.286826Z"
    }
   },
   "cell_type": "code",
   "outputs": [],
   "execution_count": 7,
   "source": [
    "x1 = q[:,\"IL10\"].X.todense()\n",
    "x2 = q[:,\"IL10RA\"].X.todense()"
   ],
   "id": "48e7e924962cc7e0"
  },
  {
   "metadata": {
    "ExecuteTime": {
     "end_time": "2025-05-27T21:29:12.863598Z",
     "start_time": "2025-05-27T21:29:12.855365Z"
    }
   },
   "cell_type": "code",
   "source": [
    "genes = np.random.choice(q.var.index.values, size=10, replace=False)\n",
    "ci = 20\n",
    "cj = 1000"
   ],
   "id": "a625fb7512e39070",
   "outputs": [],
   "execution_count": 24
  },
  {
   "metadata": {
    "ExecuteTime": {
     "end_time": "2025-05-27T21:29:14.233335Z",
     "start_time": "2025-05-27T21:29:14.225214Z"
    }
   },
   "cell_type": "code",
   "source": "genes",
   "id": "eb457228f852527f",
   "outputs": [
    {
     "data": {
      "text/plain": [
       "array(['ENST00000604983', 'FASTKD1', 'PALD1', 'SERINC1', 'HLA-H',\n",
       "       'ENST00000558917', 'MYL12BP1', 'CR2', 'ARG1', 'PPA1'], dtype=object)"
      ]
     },
     "execution_count": 25,
     "metadata": {},
     "output_type": "execute_result"
    }
   ],
   "execution_count": 25
  },
  {
   "metadata": {
    "ExecuteTime": {
     "end_time": "2025-05-27T21:29:14.409666Z",
     "start_time": "2025-05-27T21:29:14.387384Z"
    }
   },
   "cell_type": "code",
   "source": "q[ci, genes].X.todense()",
   "id": "4cf5844b5c6578a9",
   "outputs": [
    {
     "data": {
      "text/plain": [
       "matrix([[0.       , 0.7570596, 0.       , 1.514119 , 0.       ,\n",
       "         0.       , 0.       , 0.       , 0.       , 1.514119 ]],\n",
       "       dtype=float32)"
      ]
     },
     "execution_count": 26,
     "metadata": {},
     "output_type": "execute_result"
    }
   ],
   "execution_count": 26
  },
  {
   "metadata": {
    "ExecuteTime": {
     "end_time": "2025-05-27T21:29:14.576431Z",
     "start_time": "2025-05-27T21:29:14.557931Z"
    }
   },
   "cell_type": "code",
   "source": "q[ci,\"SDHAP1\"].X.todense()",
   "id": "fa3d00baeb7d32b5",
   "outputs": [
    {
     "data": {
      "text/plain": [
       "matrix([[1.514119]], dtype=float32)"
      ]
     },
     "execution_count": 27,
     "metadata": {},
     "output_type": "execute_result"
    }
   ],
   "execution_count": 27
  },
  {
   "metadata": {
    "ExecuteTime": {
     "end_time": "2025-05-27T21:29:14.951327Z",
     "start_time": "2025-05-27T21:29:14.940600Z"
    }
   },
   "cell_type": "code",
   "source": "q.obs.iloc[ci]",
   "id": "ca485dd27f32884e",
   "outputs": [
    {
     "data": {
      "text/plain": [
       "Cell_ID                     CTCACTGGTACAATAG-G08B\n",
       "samplename                                   G08B\n",
       "Expressed Genes                              4323\n",
       "n_molecules                               13802.0\n",
       "doublet_score                            0.068692\n",
       "Percent Mitochond.                       0.005362\n",
       "leiden                                          4\n",
       "Louvain Cluster                                 4\n",
       "diagnosis                                   Tumor\n",
       "phase                                          G1\n",
       "sample_diagnosis                       G08B_Tumor\n",
       "patient                                       G08\n",
       "nobatch_leiden                                  0\n",
       "nobatch_louvain                                 2\n",
       "clusters                                   PDGFRA\n",
       "diagnosis_class                   dysplasia_tumor\n",
       "Fb_Subtype                                   FbS1\n",
       "sample_name                                   NaN\n",
       "major_cell_types                              NaN\n",
       "diagnosis_pathologist                         NaN\n",
       "diagnosis_major_celltype                      NaN\n",
       "diagnosis_minor_celltype                      NaN\n",
       "diagnosis_H&E                                 NaN\n",
       "CancerType                                    NaN\n",
       "Fine_Grained_Cell_Labels                      NaN\n",
       "Name: 20, dtype: object"
      ]
     },
     "execution_count": 28,
     "metadata": {},
     "output_type": "execute_result"
    }
   ],
   "execution_count": 28
  },
  {
   "metadata": {
    "ExecuteTime": {
     "end_time": "2025-05-27T21:29:18.226002Z",
     "start_time": "2025-05-27T21:29:18.214487Z"
    }
   },
   "cell_type": "code",
   "source": "q.obs.iloc[cj]",
   "id": "c477835bc820ff11",
   "outputs": [
    {
     "data": {
      "text/plain": [
       "Cell_ID                     CATTGCCGTCCACACG-G07A\n",
       "samplename                                   G07A\n",
       "Expressed Genes                              2118\n",
       "n_molecules                                4786.0\n",
       "doublet_score                            0.064011\n",
       "Percent Mitochond.                        0.06122\n",
       "leiden                                          1\n",
       "Louvain Cluster                                 1\n",
       "diagnosis                        Normal (Stomach)\n",
       "phase                                          G1\n",
       "sample_diagnosis            G07A_Normal (Stomach)\n",
       "patient                                       G07\n",
       "nobatch_leiden                                  3\n",
       "nobatch_louvain                                 4\n",
       "clusters                                    FBLN2\n",
       "diagnosis_class                   adjacent_normal\n",
       "Fb_Subtype                                   FbS2\n",
       "sample_name                                   NaN\n",
       "major_cell_types                              NaN\n",
       "diagnosis_pathologist                         NaN\n",
       "diagnosis_major_celltype                      NaN\n",
       "diagnosis_minor_celltype                      NaN\n",
       "diagnosis_H&E                                 NaN\n",
       "CancerType                                    NaN\n",
       "Fine_Grained_Cell_Labels                      NaN\n",
       "Name: 1000, dtype: object"
      ]
     },
     "execution_count": 29,
     "metadata": {},
     "output_type": "execute_result"
    }
   ],
   "execution_count": 29
  },
  {
   "metadata": {
    "ExecuteTime": {
     "end_time": "2025-05-27T21:29:21.316481Z",
     "start_time": "2025-05-27T21:29:21.291961Z"
    }
   },
   "cell_type": "code",
   "source": [
    "x1 = q[ci,genes].X.todense()\n",
    "x2 = q[cj,genes].X.todense()"
   ],
   "id": "d76f99f8ecbf04cb",
   "outputs": [],
   "execution_count": 30
  },
  {
   "metadata": {
    "ExecuteTime": {
     "end_time": "2025-05-27T21:29:21.978491Z",
     "start_time": "2025-05-27T21:29:21.970721Z"
    }
   },
   "cell_type": "code",
   "source": "x1",
   "id": "d969e35de7c6b868",
   "outputs": [
    {
     "data": {
      "text/plain": [
       "matrix([[0.       , 0.7570596, 0.       , 1.514119 , 0.       ,\n",
       "         0.       , 0.       , 0.       , 0.       , 1.514119 ]],\n",
       "       dtype=float32)"
      ]
     },
     "execution_count": 31,
     "metadata": {},
     "output_type": "execute_result"
    }
   ],
   "execution_count": 31
  },
  {
   "metadata": {
    "ExecuteTime": {
     "end_time": "2025-05-27T21:29:22.188496Z",
     "start_time": "2025-05-27T21:29:22.180071Z"
    }
   },
   "cell_type": "code",
   "source": "x2",
   "id": "2e20295690b3c546",
   "outputs": [
    {
     "data": {
      "text/plain": [
       "matrix([[0.      , 0.      , 0.      , 4.476276, 0.      , 0.      ,\n",
       "         0.      , 0.      , 0.      , 0.      ]], dtype=float32)"
      ]
     },
     "execution_count": 32,
     "metadata": {},
     "output_type": "execute_result"
    }
   ],
   "execution_count": 32
  },
  {
   "metadata": {
    "ExecuteTime": {
     "end_time": "2025-05-27T21:29:25.136836Z",
     "start_time": "2025-05-27T21:29:25.128151Z"
    }
   },
   "cell_type": "code",
   "source": "np.multiply(x1, x2)",
   "id": "770af4ad5a57ec37",
   "outputs": [
    {
     "data": {
      "text/plain": [
       "matrix([[0.       , 0.       , 0.       , 6.7776146, 0.       ,\n",
       "         0.       , 0.       , 0.       , 0.       , 0.       ]],\n",
       "       dtype=float32)"
      ]
     },
     "execution_count": 33,
     "metadata": {},
     "output_type": "execute_result"
    }
   ],
   "execution_count": 33
  },
  {
   "metadata": {},
   "cell_type": "markdown",
   "source": "",
   "id": "bd90eb87b71c4a14"
  },
  {
   "metadata": {
    "ExecuteTime": {
     "end_time": "2025-05-28T00:09:12.323488Z",
     "start_time": "2025-05-28T00:09:12.295245Z"
    }
   },
   "cell_type": "code",
   "source": [
    "merged_df = pd.read_csv(data_prefix+'omnipath_ligrecextra_annot.csv')\n",
    "#/users/dgibbs/Work/CRUK/py-sc-niches/data/omnipath_ligrecextra_annot.csv"
   ],
   "id": "5f1cb41e7d58d9a9",
   "outputs": [],
   "execution_count": 10
  },
  {
   "metadata": {
    "ExecuteTime": {
     "end_time": "2025-05-27T21:37:48.243962Z",
     "start_time": "2025-05-27T21:37:48.224314Z"
    }
   },
   "cell_type": "code",
   "source": "merged_df",
   "id": "bcb5802018bf27cf",
   "outputs": [
    {
     "data": {
      "text/plain": [
       "       row source_protein target_protein      source_ensg      target_ensg  \\\n",
       "0        0         P0DP23         Q13507  ENSG00000198668  ENSG00000138741   \n",
       "1        1         P46531         Q9Y219  ENSG00000148400  ENSG00000184916   \n",
       "2        2         Q9Y219         P46531  ENSG00000184916  ENSG00000148400   \n",
       "3        3         O00548         P46531  ENSG00000275555  ENSG00000148400   \n",
       "4        4         O00548         P46531  ENSG00000198719  ENSG00000148400   \n",
       "...    ...            ...            ...              ...              ...   \n",
       "6648  6648         P17936         Q6UXB1  ENSG00000146674  ENSG00000188624   \n",
       "6649  6649         P18065         Q6UXB1  ENSG00000115457  ENSG00000188624   \n",
       "6650  6650         O75487         P01308  ENSG00000076716  ENSG00000254647   \n",
       "6651  6651         Q969E1         Q9UBU3  ENSG00000164406  ENSG00000157017   \n",
       "6652  6652         O00253         P01189  ENSG00000159723  ENSG00000115138   \n",
       "\n",
       "     source_symbol target_symbol  \n",
       "0            CALM1         TRPC3  \n",
       "1           NOTCH1          JAG2  \n",
       "2             JAG2        NOTCH1  \n",
       "3             DLL1        NOTCH1  \n",
       "4             DLL1        NOTCH1  \n",
       "...            ...           ...  \n",
       "6648        IGFBP3         IGFL3  \n",
       "6649        IGFBP2         IGFL3  \n",
       "6650          GPC4           INS  \n",
       "6651         LEAP2          GHRL  \n",
       "6652          AGRP          POMC  \n",
       "\n",
       "[6653 rows x 7 columns]"
      ],
      "text/html": [
       "<div>\n",
       "<style scoped>\n",
       "    .dataframe tbody tr th:only-of-type {\n",
       "        vertical-align: middle;\n",
       "    }\n",
       "\n",
       "    .dataframe tbody tr th {\n",
       "        vertical-align: top;\n",
       "    }\n",
       "\n",
       "    .dataframe thead th {\n",
       "        text-align: right;\n",
       "    }\n",
       "</style>\n",
       "<table border=\"1\" class=\"dataframe\">\n",
       "  <thead>\n",
       "    <tr style=\"text-align: right;\">\n",
       "      <th></th>\n",
       "      <th>row</th>\n",
       "      <th>source_protein</th>\n",
       "      <th>target_protein</th>\n",
       "      <th>source_ensg</th>\n",
       "      <th>target_ensg</th>\n",
       "      <th>source_symbol</th>\n",
       "      <th>target_symbol</th>\n",
       "    </tr>\n",
       "  </thead>\n",
       "  <tbody>\n",
       "    <tr>\n",
       "      <th>0</th>\n",
       "      <td>0</td>\n",
       "      <td>P0DP23</td>\n",
       "      <td>Q13507</td>\n",
       "      <td>ENSG00000198668</td>\n",
       "      <td>ENSG00000138741</td>\n",
       "      <td>CALM1</td>\n",
       "      <td>TRPC3</td>\n",
       "    </tr>\n",
       "    <tr>\n",
       "      <th>1</th>\n",
       "      <td>1</td>\n",
       "      <td>P46531</td>\n",
       "      <td>Q9Y219</td>\n",
       "      <td>ENSG00000148400</td>\n",
       "      <td>ENSG00000184916</td>\n",
       "      <td>NOTCH1</td>\n",
       "      <td>JAG2</td>\n",
       "    </tr>\n",
       "    <tr>\n",
       "      <th>2</th>\n",
       "      <td>2</td>\n",
       "      <td>Q9Y219</td>\n",
       "      <td>P46531</td>\n",
       "      <td>ENSG00000184916</td>\n",
       "      <td>ENSG00000148400</td>\n",
       "      <td>JAG2</td>\n",
       "      <td>NOTCH1</td>\n",
       "    </tr>\n",
       "    <tr>\n",
       "      <th>3</th>\n",
       "      <td>3</td>\n",
       "      <td>O00548</td>\n",
       "      <td>P46531</td>\n",
       "      <td>ENSG00000275555</td>\n",
       "      <td>ENSG00000148400</td>\n",
       "      <td>DLL1</td>\n",
       "      <td>NOTCH1</td>\n",
       "    </tr>\n",
       "    <tr>\n",
       "      <th>4</th>\n",
       "      <td>4</td>\n",
       "      <td>O00548</td>\n",
       "      <td>P46531</td>\n",
       "      <td>ENSG00000198719</td>\n",
       "      <td>ENSG00000148400</td>\n",
       "      <td>DLL1</td>\n",
       "      <td>NOTCH1</td>\n",
       "    </tr>\n",
       "    <tr>\n",
       "      <th>...</th>\n",
       "      <td>...</td>\n",
       "      <td>...</td>\n",
       "      <td>...</td>\n",
       "      <td>...</td>\n",
       "      <td>...</td>\n",
       "      <td>...</td>\n",
       "      <td>...</td>\n",
       "    </tr>\n",
       "    <tr>\n",
       "      <th>6648</th>\n",
       "      <td>6648</td>\n",
       "      <td>P17936</td>\n",
       "      <td>Q6UXB1</td>\n",
       "      <td>ENSG00000146674</td>\n",
       "      <td>ENSG00000188624</td>\n",
       "      <td>IGFBP3</td>\n",
       "      <td>IGFL3</td>\n",
       "    </tr>\n",
       "    <tr>\n",
       "      <th>6649</th>\n",
       "      <td>6649</td>\n",
       "      <td>P18065</td>\n",
       "      <td>Q6UXB1</td>\n",
       "      <td>ENSG00000115457</td>\n",
       "      <td>ENSG00000188624</td>\n",
       "      <td>IGFBP2</td>\n",
       "      <td>IGFL3</td>\n",
       "    </tr>\n",
       "    <tr>\n",
       "      <th>6650</th>\n",
       "      <td>6650</td>\n",
       "      <td>O75487</td>\n",
       "      <td>P01308</td>\n",
       "      <td>ENSG00000076716</td>\n",
       "      <td>ENSG00000254647</td>\n",
       "      <td>GPC4</td>\n",
       "      <td>INS</td>\n",
       "    </tr>\n",
       "    <tr>\n",
       "      <th>6651</th>\n",
       "      <td>6651</td>\n",
       "      <td>Q969E1</td>\n",
       "      <td>Q9UBU3</td>\n",
       "      <td>ENSG00000164406</td>\n",
       "      <td>ENSG00000157017</td>\n",
       "      <td>LEAP2</td>\n",
       "      <td>GHRL</td>\n",
       "    </tr>\n",
       "    <tr>\n",
       "      <th>6652</th>\n",
       "      <td>6652</td>\n",
       "      <td>O00253</td>\n",
       "      <td>P01189</td>\n",
       "      <td>ENSG00000159723</td>\n",
       "      <td>ENSG00000115138</td>\n",
       "      <td>AGRP</td>\n",
       "      <td>POMC</td>\n",
       "    </tr>\n",
       "  </tbody>\n",
       "</table>\n",
       "<p>6653 rows × 7 columns</p>\n",
       "</div>"
      ]
     },
     "execution_count": 52,
     "metadata": {},
     "output_type": "execute_result"
    }
   ],
   "execution_count": 52
  },
  {
   "metadata": {
    "ExecuteTime": {
     "end_time": "2025-05-27T21:49:27.336416Z",
     "start_time": "2025-05-27T21:49:27.332305Z"
    }
   },
   "cell_type": "code",
   "source": "",
   "id": "61efbfe87b7b799",
   "outputs": [],
   "execution_count": null
  },
  {
   "metadata": {
    "ExecuteTime": {
     "end_time": "2025-05-28T00:09:15.763043Z",
     "start_time": "2025-05-28T00:09:15.744343Z"
    }
   },
   "cell_type": "code",
   "source": [
    "filtered_df = merged_df[\n",
    "    merged_df[\"source_symbol\"].isin(q.var.index) &\n",
    "    merged_df[\"target_symbol\"].isin(q.var.index)\n",
    "]"
   ],
   "id": "896dfd632f918475",
   "outputs": [],
   "execution_count": 11
  },
  {
   "metadata": {
    "ExecuteTime": {
     "end_time": "2025-05-27T21:49:32.873723Z",
     "start_time": "2025-05-27T21:49:32.866075Z"
    }
   },
   "cell_type": "code",
   "source": "filtered_df.shape",
   "id": "e79b344a2afcd64d",
   "outputs": [
    {
     "data": {
      "text/plain": [
       "(6598, 7)"
      ]
     },
     "execution_count": 68,
     "metadata": {},
     "output_type": "execute_result"
    }
   ],
   "execution_count": 68
  },
  {
   "metadata": {
    "ExecuteTime": {
     "end_time": "2025-05-28T00:09:21.857572Z",
     "start_time": "2025-05-28T00:09:21.847630Z"
    }
   },
   "cell_type": "code",
   "source": [
    "source_genes = filtered_df.source_symbol.values\n",
    "target_genes = filtered_df.target_symbol.values\n",
    "\n",
    "source_target = [x+'_'+y for x,y in zip(source_genes, target_genes)]"
   ],
   "id": "dca945e855d172d9",
   "outputs": [],
   "execution_count": 12
  },
  {
   "metadata": {
    "ExecuteTime": {
     "end_time": "2025-05-28T00:31:38.572066Z",
     "start_time": "2025-05-28T00:31:38.559061Z"
    }
   },
   "cell_type": "code",
   "source": [
    "seen_pairs = set()\n",
    "unique_source_target = []\n",
    "unique_source_genes = []\n",
    "unique_target_genes = []\n",
    "\n",
    "for pair, s_genes, t_genes in zip(source_target, source_genes, target_genes):\n",
    "    if pair not in seen_pairs:\n",
    "        seen_pairs.add(pair)\n",
    "        unique_source_target.append(pair)\n",
    "        unique_source_genes.append(s_genes)\n",
    "        unique_target_genes.append(t_genes)"
   ],
   "id": "b150119fe3376b61",
   "outputs": [],
   "execution_count": 36
  },
  {
   "metadata": {
    "ExecuteTime": {
     "end_time": "2025-05-27T21:49:57.766214Z",
     "start_time": "2025-05-27T21:49:57.743358Z"
    }
   },
   "cell_type": "code",
   "source": [
    "# if we have two cells, ci and cj,\n",
    "# and a list of genes, sources and targets,\n",
    "# then we just have to extract them and multiple\n",
    "\n",
    "np.all( [x in q.var.index for x in source_genes] )\n",
    "\n",
    "#true"
   ],
   "id": "ebfd9a2f1a0d9f9f",
   "outputs": [
    {
     "data": {
      "text/plain": [
       "True"
      ]
     },
     "execution_count": 73,
     "metadata": {},
     "output_type": "execute_result"
    }
   ],
   "execution_count": 73
  },
  {
   "metadata": {
    "ExecuteTime": {
     "end_time": "2025-05-27T23:46:44.697796Z",
     "start_time": "2025-05-27T23:46:44.691309Z"
    }
   },
   "cell_type": "code",
   "source": "q.shape[1]",
   "id": "89ec24b2e8335824",
   "outputs": [
    {
     "data": {
      "text/plain": [
       "35606"
      ]
     },
     "execution_count": 118,
     "metadata": {},
     "output_type": "execute_result"
    }
   ],
   "execution_count": 118
  },
  {
   "metadata": {
    "ExecuteTime": {
     "end_time": "2025-05-27T22:42:29.224364Z",
     "start_time": "2025-05-27T22:42:29.194279Z"
    }
   },
   "cell_type": "code",
   "source": [
    "x1 = q[ci,source_genes].X.todense()\n",
    "x2 = q[cj,target_genes].X.todense()\n",
    "x1_x2 = np.multiply(x1,x2)"
   ],
   "id": "dcad2196ff9092ac",
   "outputs": [],
   "execution_count": 115
  },
  {
   "metadata": {
    "ExecuteTime": {
     "end_time": "2025-05-27T22:42:29.521188Z",
     "start_time": "2025-05-27T22:42:29.511398Z"
    }
   },
   "cell_type": "code",
   "source": "np.sum( x1_x2 > 0 )",
   "id": "5feabd0940984d44",
   "outputs": [
    {
     "data": {
      "text/plain": [
       "134"
      ]
     },
     "execution_count": 116,
     "metadata": {},
     "output_type": "execute_result"
    }
   ],
   "execution_count": 116
  },
  {
   "metadata": {
    "ExecuteTime": {
     "end_time": "2025-05-27T22:41:03.070641Z",
     "start_time": "2025-05-27T22:41:03.049739Z"
    }
   },
   "cell_type": "code",
   "source": [
    "cellid = str(ci)+'_'+str(cj)\n",
    "\n",
    "cols_ci = ['ci_'+colx for colx in q.obs.columns]\n",
    "cols_cj = ['cj_'+colx for colx in q.obs.columns]\n",
    "\n",
    "df_ci = q.obs.iloc[[ci]].copy()  # double brackets -> DataFrame\n",
    "df_cj = q.obs.iloc[[cj]].copy()\n",
    "\n",
    "df_ci.columns = cols_ci\n",
    "df_cj.columns = cols_cj\n",
    "\n",
    "# Concatenate side-by-side → single row\n",
    "df_obs_merge = pd.concat([df_ci.reset_index(drop=True), df_cj.reset_index(drop=True)], axis=1)\n",
    "# Add identifier\n",
    "df_obs_merge[\"cellcellid\"] = cellid"
   ],
   "id": "19da8e0d4f88f895",
   "outputs": [],
   "execution_count": 112
  },
  {
   "metadata": {
    "ExecuteTime": {
     "end_time": "2025-05-27T22:41:08.388753Z",
     "start_time": "2025-05-27T22:41:08.357224Z"
    }
   },
   "cell_type": "code",
   "source": "df_obs_merge",
   "id": "1018893afc1b33b7",
   "outputs": [
    {
     "data": {
      "text/plain": [
       "              ci_Cell_ID ci_samplename  ci_Expressed Genes  ci_n_molecules  \\\n",
       "0  CTCACTGGTACAATAG-G08B          G08B                4323         13802.0   \n",
       "\n",
       "   ci_doublet_score  ci_Percent Mitochond.  ci_leiden  ci_Louvain Cluster  \\\n",
       "0          0.068692               0.005362          4                   4   \n",
       "\n",
       "  ci_diagnosis ci_phase  ... cj_Fb_Subtype cj_sample_name  \\\n",
       "0        Tumor       G1  ...          FbS2            NaN   \n",
       "\n",
       "   cj_major_cell_types  cj_diagnosis_pathologist cj_diagnosis_major_celltype  \\\n",
       "0                  NaN                       NaN                         NaN   \n",
       "\n",
       "  cj_diagnosis_minor_celltype cj_diagnosis_H&E cj_CancerType  \\\n",
       "0                         NaN              NaN           NaN   \n",
       "\n",
       "  cj_Fine_Grained_Cell_Labels cellcellid  \n",
       "0                         NaN    20_1000  \n",
       "\n",
       "[1 rows x 51 columns]"
      ],
      "text/html": [
       "<div>\n",
       "<style scoped>\n",
       "    .dataframe tbody tr th:only-of-type {\n",
       "        vertical-align: middle;\n",
       "    }\n",
       "\n",
       "    .dataframe tbody tr th {\n",
       "        vertical-align: top;\n",
       "    }\n",
       "\n",
       "    .dataframe thead th {\n",
       "        text-align: right;\n",
       "    }\n",
       "</style>\n",
       "<table border=\"1\" class=\"dataframe\">\n",
       "  <thead>\n",
       "    <tr style=\"text-align: right;\">\n",
       "      <th></th>\n",
       "      <th>ci_Cell_ID</th>\n",
       "      <th>ci_samplename</th>\n",
       "      <th>ci_Expressed Genes</th>\n",
       "      <th>ci_n_molecules</th>\n",
       "      <th>ci_doublet_score</th>\n",
       "      <th>ci_Percent Mitochond.</th>\n",
       "      <th>ci_leiden</th>\n",
       "      <th>ci_Louvain Cluster</th>\n",
       "      <th>ci_diagnosis</th>\n",
       "      <th>ci_phase</th>\n",
       "      <th>...</th>\n",
       "      <th>cj_Fb_Subtype</th>\n",
       "      <th>cj_sample_name</th>\n",
       "      <th>cj_major_cell_types</th>\n",
       "      <th>cj_diagnosis_pathologist</th>\n",
       "      <th>cj_diagnosis_major_celltype</th>\n",
       "      <th>cj_diagnosis_minor_celltype</th>\n",
       "      <th>cj_diagnosis_H&amp;E</th>\n",
       "      <th>cj_CancerType</th>\n",
       "      <th>cj_Fine_Grained_Cell_Labels</th>\n",
       "      <th>cellcellid</th>\n",
       "    </tr>\n",
       "  </thead>\n",
       "  <tbody>\n",
       "    <tr>\n",
       "      <th>0</th>\n",
       "      <td>CTCACTGGTACAATAG-G08B</td>\n",
       "      <td>G08B</td>\n",
       "      <td>4323</td>\n",
       "      <td>13802.0</td>\n",
       "      <td>0.068692</td>\n",
       "      <td>0.005362</td>\n",
       "      <td>4</td>\n",
       "      <td>4</td>\n",
       "      <td>Tumor</td>\n",
       "      <td>G1</td>\n",
       "      <td>...</td>\n",
       "      <td>FbS2</td>\n",
       "      <td>NaN</td>\n",
       "      <td>NaN</td>\n",
       "      <td>NaN</td>\n",
       "      <td>NaN</td>\n",
       "      <td>NaN</td>\n",
       "      <td>NaN</td>\n",
       "      <td>NaN</td>\n",
       "      <td>NaN</td>\n",
       "      <td>20_1000</td>\n",
       "    </tr>\n",
       "  </tbody>\n",
       "</table>\n",
       "<p>1 rows × 51 columns</p>\n",
       "</div>"
      ]
     },
     "execution_count": 114,
     "metadata": {},
     "output_type": "execute_result"
    }
   ],
   "execution_count": 114
  },
  {
   "metadata": {
    "ExecuteTime": {
     "end_time": "2025-05-27T22:39:10.294914Z",
     "start_time": "2025-05-27T22:39:10.291061Z"
    }
   },
   "cell_type": "code",
   "source": "",
   "id": "d77c7634d75a206",
   "outputs": [],
   "execution_count": null
  },
  {
   "metadata": {},
   "cell_type": "code",
   "outputs": [],
   "execution_count": null,
   "source": "",
   "id": "4b8a51b103c59010"
  },
  {
   "metadata": {
    "ExecuteTime": {
     "end_time": "2025-05-28T00:09:29.343921Z",
     "start_time": "2025-05-28T00:09:29.309237Z"
    }
   },
   "cell_type": "code",
   "source": [
    "qmini = sc.pp.subsample(data=q, fraction=0.005, copy=True)\n",
    "\n",
    "qmini.shape"
   ],
   "id": "355445d69b706c15",
   "outputs": [
    {
     "data": {
      "text/plain": [
       "(174, 35606)"
      ]
     },
     "execution_count": 13,
     "metadata": {},
     "output_type": "execute_result"
    }
   ],
   "execution_count": 13
  },
  {
   "metadata": {
    "jupyter": {
     "is_executing": true
    },
    "ExecuteTime": {
     "start_time": "2025-05-27T23:54:54.273588Z"
    }
   },
   "cell_type": "code",
   "source": [
    "# save up the rows of the cell-pair obs\n",
    "obs_list = []\n",
    "X_list = []\n",
    "error_list = []\n",
    "\n",
    "qq = qmini.copy()\n",
    "\n",
    "### for each pair of cells:\n",
    "for ci in range(qq.shape[0]):\n",
    "    for cj in range(ci+1,qq.shape[0]):\n",
    "\n",
    "        try:\n",
    "            # the name of the cell pairing\n",
    "            cellid = str(ci)+'_'+str(cj)\n",
    "            df_ci = qq.obs.iloc[[ci]].copy()  # double brackets -> DataFrame\n",
    "            df_cj = qq.obs.iloc[[cj]].copy()\n",
    "            df_ci.columns = cols_ci\n",
    "            df_cj.columns = cols_cj\n",
    "\n",
    "            # Concatenate side-by-side → single row\n",
    "            df_obs_merge = pd.concat([df_ci.reset_index(drop=True), df_cj.reset_index(drop=True)], axis=1)\n",
    "\n",
    "            # Add identifier\n",
    "            df_obs_merge[\"cellcellid\"] = cellid\n",
    "\n",
    "            # get the count vectors\n",
    "            x1 = qq[ci,source_genes].X.todense()\n",
    "            x2 = qq[cj,target_genes].X.todense()\n",
    "\n",
    "            # pairwise dot product\n",
    "            x1_x2 = np.multiply(x1,x2)\n",
    "\n",
    "            obs_list.append(df_obs_merge)\n",
    "            X_list.append(x1_x2)\n",
    "        except:\n",
    "            print(\"error on cell pair:\" + str(cellid))\n",
    "            error_list.append(cellid)\n",
    "\n"
   ],
   "id": "1a91e9e92dedbecf",
   "outputs": [
    {
     "name": "stdout",
     "output_type": "stream",
     "text": [
      "error on cell pair:45_156\n",
      "error on cell pair:47_104\n",
      "error on cell pair:47_123\n",
      "error on cell pair:47_141\n",
      "error on cell pair:47_159\n",
      "error on cell pair:47_177\n",
      "error on cell pair:47_192\n",
      "error on cell pair:47_205\n",
      "error on cell pair:80_541\n",
      "error on cell pair:80_559\n",
      "error on cell pair:80_580\n",
      "error on cell pair:80_598\n",
      "error on cell pair:80_616\n",
      "error on cell pair:80_638\n",
      "error on cell pair:81_110\n",
      "error on cell pair:81_128\n",
      "error on cell pair:81_146\n",
      "error on cell pair:81_165\n",
      "error on cell pair:99_424\n",
      "error on cell pair:99_440\n",
      "error on cell pair:99_455\n"
     ]
    }
   ],
   "execution_count": null
  },
  {
   "metadata": {},
   "cell_type": "code",
   "outputs": [],
   "execution_count": null,
   "source": "",
   "id": "c0cc219dfbc9bc75"
  },
  {
   "metadata": {},
   "cell_type": "code",
   "outputs": [],
   "execution_count": null,
   "source": "",
   "id": "8035c74c63f7028d"
  },
  {
   "metadata": {},
   "cell_type": "code",
   "outputs": [],
   "execution_count": null,
   "source": "",
   "id": "830f317cc6bace73"
  },
  {
   "metadata": {
    "ExecuteTime": {
     "end_time": "2025-05-28T00:14:14.171568Z",
     "start_time": "2025-05-28T00:14:14.155899Z"
    }
   },
   "cell_type": "code",
   "source": [
    "from joblib import Parallel, delayed\n",
    "import numpy as np\n",
    "import pandas as pd\n",
    "\n",
    "# Chunking utility\n",
    "def chunk_indices(n, chunk_size):\n",
    "    return [list(range(i, min(i + chunk_size, n))) for i in range(0, n, chunk_size)]\n",
    "\n",
    "# Core logic to process a chunk of ci indices\n",
    "def process_ci_chunk(ci_chunk, qq, source_genes, target_genes, cols_ci, cols_cj):\n",
    "    obs_list = []\n",
    "    X_list = []\n",
    "    error_list = []\n",
    "\n",
    "    print(ci_chunk)\n",
    "\n",
    "    for ci in ci_chunk:\n",
    "        for cj in range(ci + 1, qq.shape[0]):\n",
    "            try:\n",
    "                cellid = f\"{ci}_{cj}\"\n",
    "                df_ci = qq.obs.iloc[[ci]].copy()\n",
    "                df_cj = qq.obs.iloc[[cj]].copy()\n",
    "                df_ci.columns = cols_ci\n",
    "                df_cj.columns = cols_cj\n",
    "\n",
    "                df_obs_merge = pd.concat([df_ci.reset_index(drop=True),\n",
    "                                          df_cj.reset_index(drop=True)], axis=1)\n",
    "                df_obs_merge[\"cellcellid\"] = cellid\n",
    "\n",
    "                x1 = qq[ci, source_genes].X.todense()\n",
    "                x2 = qq[cj, target_genes].X.todense()\n",
    "                x1_x2 = np.multiply(x1, x2)\n",
    "\n",
    "                obs_list.append(df_obs_merge)\n",
    "                X_list.append(x1_x2)\n",
    "            except:\n",
    "                error_list.append(f\"{ci}_{cj}\")\n",
    "\n",
    "    return obs_list, X_list, error_list\n"
   ],
   "id": "20c392d83eac8eca",
   "outputs": [],
   "execution_count": 20
  },
  {
   "metadata": {
    "ExecuteTime": {
     "end_time": "2025-05-28T00:17:05.618613Z",
     "start_time": "2025-05-28T00:14:15.716897Z"
    }
   },
   "cell_type": "code",
   "source": [
    "qq = sc.pp.subsample(data=q, fraction=0.005, copy=True)\n",
    "print(qq.shape)\n",
    "n_cells = qq.shape[0]\n",
    "chunk_size = 100  # adjust based on memory and CPU cores\n",
    "ci_chunks = chunk_indices(n_cells, chunk_size)\n",
    "\n",
    "cols_ci = ['ci_'+colx for colx in q.obs.columns]\n",
    "cols_cj = ['cj_'+colx for colx in q.obs.columns]\n",
    "\n",
    "results = Parallel(n_jobs=8, backend=\"loky\")(\n",
    "    delayed(process_ci_chunk)(ci_chunk, qq, source_genes, target_genes, cols_ci, cols_cj)\n",
    "    for ci_chunk in ci_chunks\n",
    ")\n",
    "\n",
    "# Merge results\n",
    "obs_list   = [item for chunk in results for item in chunk[0]]\n",
    "X_list     = [item for chunk in results for item in chunk[1]]\n",
    "error_list = [item for chunk in results for item in chunk[2]]"
   ],
   "id": "888f643d0979a102",
   "outputs": [
    {
     "name": "stdout",
     "output_type": "stream",
     "text": [
      "(174, 35606)\n"
     ]
    }
   ],
   "execution_count": 21
  },
  {
   "metadata": {
    "ExecuteTime": {
     "end_time": "2025-05-28T00:17:37.834440Z",
     "start_time": "2025-05-28T00:17:22.600713Z"
    }
   },
   "cell_type": "code",
   "source": "obs_df = pd.concat(obs_list, axis=0)",
   "id": "e643ff8d9101c3d7",
   "outputs": [],
   "execution_count": 22
  },
  {
   "metadata": {
    "ExecuteTime": {
     "end_time": "2025-05-28T00:18:20.597788Z",
     "start_time": "2025-05-28T00:18:20.562396Z"
    }
   },
   "cell_type": "code",
   "source": "obs_df",
   "id": "606525628eda8812",
   "outputs": [
    {
     "data": {
      "text/plain": [
       "               ci_Cell_ID ci_samplename  ci_Expressed Genes  ci_n_molecules  \\\n",
       "0                   21031           NaN                3846         15893.0   \n",
       "0                   21031           NaN                3846         15893.0   \n",
       "0                   21031           NaN                3846         15893.0   \n",
       "0                   21031           NaN                3846         15893.0   \n",
       "0                   21031           NaN                3846         15893.0   \n",
       "..                    ...           ...                 ...             ...   \n",
       "0                   10833           NaN                 634          1050.0   \n",
       "0                   10833           NaN                 634          1050.0   \n",
       "0                     706           NaN                7458         53407.0   \n",
       "0                     706           NaN                7458         53407.0   \n",
       "0   ATTCCCGCACCAGCTG-G06B          G06B                2652          6836.0   \n",
       "\n",
       "    ci_doublet_score  ci_Percent Mitochond.  ci_leiden  ci_Louvain Cluster  \\\n",
       "0           0.045336               0.085572          4                   3   \n",
       "0           0.045336               0.085572          4                   3   \n",
       "0           0.045336               0.085572          4                   3   \n",
       "0           0.045336               0.085572          4                   3   \n",
       "0           0.045336               0.085572          4                   3   \n",
       "..               ...                    ...        ...                 ...   \n",
       "0           0.016578               0.107619          8                   5   \n",
       "0           0.016578               0.107619          8                   5   \n",
       "0           0.058842               0.116576         24                  24   \n",
       "0           0.058842               0.116576         24                  24   \n",
       "0           0.040890               0.151404          6                   8   \n",
       "\n",
       "   ci_diagnosis ci_phase  ... cj_Fb_Subtype cj_sample_name  \\\n",
       "0           NaN       G1  ...           NaN           G09D   \n",
       "0           NaN       G1  ...           NaN           G07B   \n",
       "0           NaN       G1  ...           NaN           G07B   \n",
       "0           NaN       G1  ...           NaN           G08C   \n",
       "0           NaN       G1  ...           NaN           G07D   \n",
       "..          ...      ...  ...           ...            ...   \n",
       "0           NaN       G1  ...           NaN            NaN   \n",
       "0           NaN       G1  ...           NaN           G07A   \n",
       "0           NaN      G2M  ...           NaN            NaN   \n",
       "0           NaN      G2M  ...           NaN           G07A   \n",
       "0         Tumor       G1  ...           NaN           G07A   \n",
       "\n",
       "          cj_major_cell_types  cj_diagnosis_pathologist  \\\n",
       "0                surface_cell                Metaplasia   \n",
       "0                     IM_cell                     Tumor   \n",
       "0           dysplastic_cancer                     Tumor   \n",
       "0                surface_cell                Metaplasia   \n",
       "0          isthmic_progenitor                 Dysplasia   \n",
       "..                        ...                       ...   \n",
       "0                         NaN                       NaN   \n",
       "0   transdifferentiating_cell                    Normal   \n",
       "0                         NaN                       NaN   \n",
       "0   transdifferentiating_cell                    Normal   \n",
       "0   transdifferentiating_cell                    Normal   \n",
       "\n",
       "   cj_diagnosis_major_celltype cj_diagnosis_minor_celltype cj_diagnosis_H&E  \\\n",
       "0                           IM                   Dys, SPEM          Dys/Can   \n",
       "0                           IM                         Dys          Dys/Can   \n",
       "0                           IM                         Dys          Dys/Can   \n",
       "0                SPEM, Surface                         NaN             SPEM   \n",
       "0                         SPEM                     IM, Dys          Dys/Can   \n",
       "..                         ...                         ...              ...   \n",
       "0                          NaN                         NaN              NaN   \n",
       "0         SPEM, Chief, Surface                         NaN           Normal   \n",
       "0                          NaN                         NaN              NaN   \n",
       "0         SPEM, Chief, Surface                         NaN           Normal   \n",
       "0         SPEM, Chief, Surface                         NaN           Normal   \n",
       "\n",
       "      cj_CancerType           cj_Fine_Grained_Cell_Labels cellcellid  \n",
       "0      diffuse-type                         Surface cells        0_1  \n",
       "0      diffuse-type        IM intermediate cells (DMBT1+)        0_2  \n",
       "0      diffuse-type  Dysplastic cells (TACSTD2+ CEACAMS+)        0_3  \n",
       "0   intestinal-type                         Surface cells        0_4  \n",
       "0      diffuse-type                  Commited progenitors        0_5  \n",
       "..              ...                                   ...        ...  \n",
       "0               NaN                                   NaN    170_172  \n",
       "0      diffuse-type            Transdifferentiating cells    170_173  \n",
       "0               NaN                                   NaN    171_172  \n",
       "0      diffuse-type            Transdifferentiating cells    171_173  \n",
       "0      diffuse-type            Transdifferentiating cells    172_173  \n",
       "\n",
       "[15051 rows x 51 columns]"
      ],
      "text/html": [
       "<div>\n",
       "<style scoped>\n",
       "    .dataframe tbody tr th:only-of-type {\n",
       "        vertical-align: middle;\n",
       "    }\n",
       "\n",
       "    .dataframe tbody tr th {\n",
       "        vertical-align: top;\n",
       "    }\n",
       "\n",
       "    .dataframe thead th {\n",
       "        text-align: right;\n",
       "    }\n",
       "</style>\n",
       "<table border=\"1\" class=\"dataframe\">\n",
       "  <thead>\n",
       "    <tr style=\"text-align: right;\">\n",
       "      <th></th>\n",
       "      <th>ci_Cell_ID</th>\n",
       "      <th>ci_samplename</th>\n",
       "      <th>ci_Expressed Genes</th>\n",
       "      <th>ci_n_molecules</th>\n",
       "      <th>ci_doublet_score</th>\n",
       "      <th>ci_Percent Mitochond.</th>\n",
       "      <th>ci_leiden</th>\n",
       "      <th>ci_Louvain Cluster</th>\n",
       "      <th>ci_diagnosis</th>\n",
       "      <th>ci_phase</th>\n",
       "      <th>...</th>\n",
       "      <th>cj_Fb_Subtype</th>\n",
       "      <th>cj_sample_name</th>\n",
       "      <th>cj_major_cell_types</th>\n",
       "      <th>cj_diagnosis_pathologist</th>\n",
       "      <th>cj_diagnosis_major_celltype</th>\n",
       "      <th>cj_diagnosis_minor_celltype</th>\n",
       "      <th>cj_diagnosis_H&amp;E</th>\n",
       "      <th>cj_CancerType</th>\n",
       "      <th>cj_Fine_Grained_Cell_Labels</th>\n",
       "      <th>cellcellid</th>\n",
       "    </tr>\n",
       "  </thead>\n",
       "  <tbody>\n",
       "    <tr>\n",
       "      <th>0</th>\n",
       "      <td>21031</td>\n",
       "      <td>NaN</td>\n",
       "      <td>3846</td>\n",
       "      <td>15893.0</td>\n",
       "      <td>0.045336</td>\n",
       "      <td>0.085572</td>\n",
       "      <td>4</td>\n",
       "      <td>3</td>\n",
       "      <td>NaN</td>\n",
       "      <td>G1</td>\n",
       "      <td>...</td>\n",
       "      <td>NaN</td>\n",
       "      <td>G09D</td>\n",
       "      <td>surface_cell</td>\n",
       "      <td>Metaplasia</td>\n",
       "      <td>IM</td>\n",
       "      <td>Dys, SPEM</td>\n",
       "      <td>Dys/Can</td>\n",
       "      <td>diffuse-type</td>\n",
       "      <td>Surface cells</td>\n",
       "      <td>0_1</td>\n",
       "    </tr>\n",
       "    <tr>\n",
       "      <th>0</th>\n",
       "      <td>21031</td>\n",
       "      <td>NaN</td>\n",
       "      <td>3846</td>\n",
       "      <td>15893.0</td>\n",
       "      <td>0.045336</td>\n",
       "      <td>0.085572</td>\n",
       "      <td>4</td>\n",
       "      <td>3</td>\n",
       "      <td>NaN</td>\n",
       "      <td>G1</td>\n",
       "      <td>...</td>\n",
       "      <td>NaN</td>\n",
       "      <td>G07B</td>\n",
       "      <td>IM_cell</td>\n",
       "      <td>Tumor</td>\n",
       "      <td>IM</td>\n",
       "      <td>Dys</td>\n",
       "      <td>Dys/Can</td>\n",
       "      <td>diffuse-type</td>\n",
       "      <td>IM intermediate cells (DMBT1+)</td>\n",
       "      <td>0_2</td>\n",
       "    </tr>\n",
       "    <tr>\n",
       "      <th>0</th>\n",
       "      <td>21031</td>\n",
       "      <td>NaN</td>\n",
       "      <td>3846</td>\n",
       "      <td>15893.0</td>\n",
       "      <td>0.045336</td>\n",
       "      <td>0.085572</td>\n",
       "      <td>4</td>\n",
       "      <td>3</td>\n",
       "      <td>NaN</td>\n",
       "      <td>G1</td>\n",
       "      <td>...</td>\n",
       "      <td>NaN</td>\n",
       "      <td>G07B</td>\n",
       "      <td>dysplastic_cancer</td>\n",
       "      <td>Tumor</td>\n",
       "      <td>IM</td>\n",
       "      <td>Dys</td>\n",
       "      <td>Dys/Can</td>\n",
       "      <td>diffuse-type</td>\n",
       "      <td>Dysplastic cells (TACSTD2+ CEACAMS+)</td>\n",
       "      <td>0_3</td>\n",
       "    </tr>\n",
       "    <tr>\n",
       "      <th>0</th>\n",
       "      <td>21031</td>\n",
       "      <td>NaN</td>\n",
       "      <td>3846</td>\n",
       "      <td>15893.0</td>\n",
       "      <td>0.045336</td>\n",
       "      <td>0.085572</td>\n",
       "      <td>4</td>\n",
       "      <td>3</td>\n",
       "      <td>NaN</td>\n",
       "      <td>G1</td>\n",
       "      <td>...</td>\n",
       "      <td>NaN</td>\n",
       "      <td>G08C</td>\n",
       "      <td>surface_cell</td>\n",
       "      <td>Metaplasia</td>\n",
       "      <td>SPEM, Surface</td>\n",
       "      <td>NaN</td>\n",
       "      <td>SPEM</td>\n",
       "      <td>intestinal-type</td>\n",
       "      <td>Surface cells</td>\n",
       "      <td>0_4</td>\n",
       "    </tr>\n",
       "    <tr>\n",
       "      <th>0</th>\n",
       "      <td>21031</td>\n",
       "      <td>NaN</td>\n",
       "      <td>3846</td>\n",
       "      <td>15893.0</td>\n",
       "      <td>0.045336</td>\n",
       "      <td>0.085572</td>\n",
       "      <td>4</td>\n",
       "      <td>3</td>\n",
       "      <td>NaN</td>\n",
       "      <td>G1</td>\n",
       "      <td>...</td>\n",
       "      <td>NaN</td>\n",
       "      <td>G07D</td>\n",
       "      <td>isthmic_progenitor</td>\n",
       "      <td>Dysplasia</td>\n",
       "      <td>SPEM</td>\n",
       "      <td>IM, Dys</td>\n",
       "      <td>Dys/Can</td>\n",
       "      <td>diffuse-type</td>\n",
       "      <td>Commited progenitors</td>\n",
       "      <td>0_5</td>\n",
       "    </tr>\n",
       "    <tr>\n",
       "      <th>...</th>\n",
       "      <td>...</td>\n",
       "      <td>...</td>\n",
       "      <td>...</td>\n",
       "      <td>...</td>\n",
       "      <td>...</td>\n",
       "      <td>...</td>\n",
       "      <td>...</td>\n",
       "      <td>...</td>\n",
       "      <td>...</td>\n",
       "      <td>...</td>\n",
       "      <td>...</td>\n",
       "      <td>...</td>\n",
       "      <td>...</td>\n",
       "      <td>...</td>\n",
       "      <td>...</td>\n",
       "      <td>...</td>\n",
       "      <td>...</td>\n",
       "      <td>...</td>\n",
       "      <td>...</td>\n",
       "      <td>...</td>\n",
       "      <td>...</td>\n",
       "    </tr>\n",
       "    <tr>\n",
       "      <th>0</th>\n",
       "      <td>10833</td>\n",
       "      <td>NaN</td>\n",
       "      <td>634</td>\n",
       "      <td>1050.0</td>\n",
       "      <td>0.016578</td>\n",
       "      <td>0.107619</td>\n",
       "      <td>8</td>\n",
       "      <td>5</td>\n",
       "      <td>NaN</td>\n",
       "      <td>G1</td>\n",
       "      <td>...</td>\n",
       "      <td>NaN</td>\n",
       "      <td>NaN</td>\n",
       "      <td>NaN</td>\n",
       "      <td>NaN</td>\n",
       "      <td>NaN</td>\n",
       "      <td>NaN</td>\n",
       "      <td>NaN</td>\n",
       "      <td>NaN</td>\n",
       "      <td>NaN</td>\n",
       "      <td>170_172</td>\n",
       "    </tr>\n",
       "    <tr>\n",
       "      <th>0</th>\n",
       "      <td>10833</td>\n",
       "      <td>NaN</td>\n",
       "      <td>634</td>\n",
       "      <td>1050.0</td>\n",
       "      <td>0.016578</td>\n",
       "      <td>0.107619</td>\n",
       "      <td>8</td>\n",
       "      <td>5</td>\n",
       "      <td>NaN</td>\n",
       "      <td>G1</td>\n",
       "      <td>...</td>\n",
       "      <td>NaN</td>\n",
       "      <td>G07A</td>\n",
       "      <td>transdifferentiating_cell</td>\n",
       "      <td>Normal</td>\n",
       "      <td>SPEM, Chief, Surface</td>\n",
       "      <td>NaN</td>\n",
       "      <td>Normal</td>\n",
       "      <td>diffuse-type</td>\n",
       "      <td>Transdifferentiating cells</td>\n",
       "      <td>170_173</td>\n",
       "    </tr>\n",
       "    <tr>\n",
       "      <th>0</th>\n",
       "      <td>706</td>\n",
       "      <td>NaN</td>\n",
       "      <td>7458</td>\n",
       "      <td>53407.0</td>\n",
       "      <td>0.058842</td>\n",
       "      <td>0.116576</td>\n",
       "      <td>24</td>\n",
       "      <td>24</td>\n",
       "      <td>NaN</td>\n",
       "      <td>G2M</td>\n",
       "      <td>...</td>\n",
       "      <td>NaN</td>\n",
       "      <td>NaN</td>\n",
       "      <td>NaN</td>\n",
       "      <td>NaN</td>\n",
       "      <td>NaN</td>\n",
       "      <td>NaN</td>\n",
       "      <td>NaN</td>\n",
       "      <td>NaN</td>\n",
       "      <td>NaN</td>\n",
       "      <td>171_172</td>\n",
       "    </tr>\n",
       "    <tr>\n",
       "      <th>0</th>\n",
       "      <td>706</td>\n",
       "      <td>NaN</td>\n",
       "      <td>7458</td>\n",
       "      <td>53407.0</td>\n",
       "      <td>0.058842</td>\n",
       "      <td>0.116576</td>\n",
       "      <td>24</td>\n",
       "      <td>24</td>\n",
       "      <td>NaN</td>\n",
       "      <td>G2M</td>\n",
       "      <td>...</td>\n",
       "      <td>NaN</td>\n",
       "      <td>G07A</td>\n",
       "      <td>transdifferentiating_cell</td>\n",
       "      <td>Normal</td>\n",
       "      <td>SPEM, Chief, Surface</td>\n",
       "      <td>NaN</td>\n",
       "      <td>Normal</td>\n",
       "      <td>diffuse-type</td>\n",
       "      <td>Transdifferentiating cells</td>\n",
       "      <td>171_173</td>\n",
       "    </tr>\n",
       "    <tr>\n",
       "      <th>0</th>\n",
       "      <td>ATTCCCGCACCAGCTG-G06B</td>\n",
       "      <td>G06B</td>\n",
       "      <td>2652</td>\n",
       "      <td>6836.0</td>\n",
       "      <td>0.040890</td>\n",
       "      <td>0.151404</td>\n",
       "      <td>6</td>\n",
       "      <td>8</td>\n",
       "      <td>Tumor</td>\n",
       "      <td>G1</td>\n",
       "      <td>...</td>\n",
       "      <td>NaN</td>\n",
       "      <td>G07A</td>\n",
       "      <td>transdifferentiating_cell</td>\n",
       "      <td>Normal</td>\n",
       "      <td>SPEM, Chief, Surface</td>\n",
       "      <td>NaN</td>\n",
       "      <td>Normal</td>\n",
       "      <td>diffuse-type</td>\n",
       "      <td>Transdifferentiating cells</td>\n",
       "      <td>172_173</td>\n",
       "    </tr>\n",
       "  </tbody>\n",
       "</table>\n",
       "<p>15051 rows × 51 columns</p>\n",
       "</div>"
      ]
     },
     "execution_count": 26,
     "metadata": {},
     "output_type": "execute_result"
    }
   ],
   "execution_count": 26
  },
  {
   "metadata": {
    "ExecuteTime": {
     "end_time": "2025-05-28T00:23:15.321480Z",
     "start_time": "2025-05-28T00:23:12.853504Z"
    }
   },
   "cell_type": "code",
   "source": [
    "from scipy.sparse import csr_matrix, vstack\n",
    "\n",
    "# Convert each dense matrix (1 x N) to a sparse row\n",
    "X_sparse_rows = [csr_matrix(x) for x in X_list]\n",
    "\n",
    "# Stack into a single sparse matrix\n",
    "X_sparse = vstack(X_sparse_rows, format='csr')"
   ],
   "id": "70ef9c1988c0485b",
   "outputs": [],
   "execution_count": 27
  },
  {
   "metadata": {
    "ExecuteTime": {
     "end_time": "2025-05-28T00:23:21.392137Z",
     "start_time": "2025-05-28T00:23:21.383750Z"
    }
   },
   "cell_type": "code",
   "source": "X_sparse.shape",
   "id": "e33fa451ca385fb1",
   "outputs": [
    {
     "data": {
      "text/plain": [
       "(15051, 6598)"
      ]
     },
     "execution_count": 28,
     "metadata": {},
     "output_type": "execute_result"
    }
   ],
   "execution_count": 28
  },
  {
   "metadata": {
    "ExecuteTime": {
     "end_time": "2025-05-28T00:27:47.973433Z",
     "start_time": "2025-05-28T00:27:47.950821Z"
    }
   },
   "cell_type": "code",
   "source": [
    "var_df = pd.DataFrame({'source_symbol': source_genes,\n",
    "                       'target_symbol': target_genes}, index=source_target)\n",
    "\n",
    "qfinal = sc.AnnData(X=X_sparse, obs=obs_df, var=var_df)"
   ],
   "id": "dc55ac289744395a",
   "outputs": [
    {
     "name": "stderr",
     "output_type": "stream",
     "text": [
      "/users/dgibbs/miniconda3/envs/ScanpySquidpy/lib/python3.11/site-packages/anndata/_core/aligned_df.py:68: ImplicitModificationWarning: Transforming to str index.\n",
      "  warnings.warn(\"Transforming to str index.\", ImplicitModificationWarning)\n",
      "/users/dgibbs/miniconda3/envs/ScanpySquidpy/lib/python3.11/site-packages/anndata/_core/anndata.py:1754: UserWarning: Observation names are not unique. To make them unique, call `.obs_names_make_unique`.\n",
      "  utils.warn_names_duplicates(\"obs\")\n",
      "/users/dgibbs/miniconda3/envs/ScanpySquidpy/lib/python3.11/site-packages/anndata/_core/anndata.py:1756: UserWarning: Variable names are not unique. To make them unique, call `.var_names_make_unique`.\n",
      "  utils.warn_names_duplicates(\"var\")\n"
     ]
    }
   ],
   "execution_count": 30
  },
  {
   "metadata": {
    "ExecuteTime": {
     "end_time": "2025-05-28T00:28:01.796603Z",
     "start_time": "2025-05-28T00:28:01.787611Z"
    }
   },
   "cell_type": "code",
   "source": "qfinal",
   "id": "a7c84d356da2a424",
   "outputs": [
    {
     "data": {
      "text/plain": [
       "AnnData object with n_obs × n_vars = 15051 × 6598\n",
       "    obs: 'ci_Cell_ID', 'ci_samplename', 'ci_Expressed Genes', 'ci_n_molecules', 'ci_doublet_score', 'ci_Percent Mitochond.', 'ci_leiden', 'ci_Louvain Cluster', 'ci_diagnosis', 'ci_phase', 'ci_sample_diagnosis', 'ci_patient', 'ci_nobatch_leiden', 'ci_nobatch_louvain', 'ci_clusters', 'ci_diagnosis_class', 'ci_Fb_Subtype', 'ci_sample_name', 'ci_major_cell_types', 'ci_diagnosis_pathologist', 'ci_diagnosis_major_celltype', 'ci_diagnosis_minor_celltype', 'ci_diagnosis_H&E', 'ci_CancerType', 'ci_Fine_Grained_Cell_Labels', 'cj_Cell_ID', 'cj_samplename', 'cj_Expressed Genes', 'cj_n_molecules', 'cj_doublet_score', 'cj_Percent Mitochond.', 'cj_leiden', 'cj_Louvain Cluster', 'cj_diagnosis', 'cj_phase', 'cj_sample_diagnosis', 'cj_patient', 'cj_nobatch_leiden', 'cj_nobatch_louvain', 'cj_clusters', 'cj_diagnosis_class', 'cj_Fb_Subtype', 'cj_sample_name', 'cj_major_cell_types', 'cj_diagnosis_pathologist', 'cj_diagnosis_major_celltype', 'cj_diagnosis_minor_celltype', 'cj_diagnosis_H&E', 'cj_CancerType', 'cj_Fine_Grained_Cell_Labels', 'cellcellid'\n",
       "    var: 'source_symbol', 'target_symbol'"
      ]
     },
     "execution_count": 31,
     "metadata": {},
     "output_type": "execute_result"
    }
   ],
   "execution_count": 31
  },
  {
   "metadata": {
    "ExecuteTime": {
     "end_time": "2025-05-28T00:28:27.469400Z",
     "start_time": "2025-05-28T00:28:27.454362Z"
    }
   },
   "cell_type": "code",
   "source": "qfinal.var",
   "id": "1a03fb2d022022f6",
   "outputs": [
    {
     "data": {
      "text/plain": [
       "             source_symbol target_symbol\n",
       "CALM1_TRPC3          CALM1         TRPC3\n",
       "NOTCH1_JAG2         NOTCH1          JAG2\n",
       "JAG2_NOTCH1           JAG2        NOTCH1\n",
       "DLL1_NOTCH1           DLL1        NOTCH1\n",
       "DLL1_NOTCH1           DLL1        NOTCH1\n",
       "...                    ...           ...\n",
       "IGFBP3_IGFL3        IGFBP3         IGFL3\n",
       "IGFBP2_IGFL3        IGFBP2         IGFL3\n",
       "GPC4_INS              GPC4           INS\n",
       "LEAP2_GHRL           LEAP2          GHRL\n",
       "AGRP_POMC             AGRP          POMC\n",
       "\n",
       "[6598 rows x 2 columns]"
      ],
      "text/html": [
       "<div>\n",
       "<style scoped>\n",
       "    .dataframe tbody tr th:only-of-type {\n",
       "        vertical-align: middle;\n",
       "    }\n",
       "\n",
       "    .dataframe tbody tr th {\n",
       "        vertical-align: top;\n",
       "    }\n",
       "\n",
       "    .dataframe thead th {\n",
       "        text-align: right;\n",
       "    }\n",
       "</style>\n",
       "<table border=\"1\" class=\"dataframe\">\n",
       "  <thead>\n",
       "    <tr style=\"text-align: right;\">\n",
       "      <th></th>\n",
       "      <th>source_symbol</th>\n",
       "      <th>target_symbol</th>\n",
       "    </tr>\n",
       "  </thead>\n",
       "  <tbody>\n",
       "    <tr>\n",
       "      <th>CALM1_TRPC3</th>\n",
       "      <td>CALM1</td>\n",
       "      <td>TRPC3</td>\n",
       "    </tr>\n",
       "    <tr>\n",
       "      <th>NOTCH1_JAG2</th>\n",
       "      <td>NOTCH1</td>\n",
       "      <td>JAG2</td>\n",
       "    </tr>\n",
       "    <tr>\n",
       "      <th>JAG2_NOTCH1</th>\n",
       "      <td>JAG2</td>\n",
       "      <td>NOTCH1</td>\n",
       "    </tr>\n",
       "    <tr>\n",
       "      <th>DLL1_NOTCH1</th>\n",
       "      <td>DLL1</td>\n",
       "      <td>NOTCH1</td>\n",
       "    </tr>\n",
       "    <tr>\n",
       "      <th>DLL1_NOTCH1</th>\n",
       "      <td>DLL1</td>\n",
       "      <td>NOTCH1</td>\n",
       "    </tr>\n",
       "    <tr>\n",
       "      <th>...</th>\n",
       "      <td>...</td>\n",
       "      <td>...</td>\n",
       "    </tr>\n",
       "    <tr>\n",
       "      <th>IGFBP3_IGFL3</th>\n",
       "      <td>IGFBP3</td>\n",
       "      <td>IGFL3</td>\n",
       "    </tr>\n",
       "    <tr>\n",
       "      <th>IGFBP2_IGFL3</th>\n",
       "      <td>IGFBP2</td>\n",
       "      <td>IGFL3</td>\n",
       "    </tr>\n",
       "    <tr>\n",
       "      <th>GPC4_INS</th>\n",
       "      <td>GPC4</td>\n",
       "      <td>INS</td>\n",
       "    </tr>\n",
       "    <tr>\n",
       "      <th>LEAP2_GHRL</th>\n",
       "      <td>LEAP2</td>\n",
       "      <td>GHRL</td>\n",
       "    </tr>\n",
       "    <tr>\n",
       "      <th>AGRP_POMC</th>\n",
       "      <td>AGRP</td>\n",
       "      <td>POMC</td>\n",
       "    </tr>\n",
       "  </tbody>\n",
       "</table>\n",
       "<p>6598 rows × 2 columns</p>\n",
       "</div>"
      ]
     },
     "execution_count": 32,
     "metadata": {},
     "output_type": "execute_result"
    }
   ],
   "execution_count": 32
  },
  {
   "metadata": {},
   "cell_type": "code",
   "outputs": [],
   "execution_count": null,
   "source": "",
   "id": "abc673e028911c37"
  }
 ],
 "metadata": {
  "kernelspec": {
   "display_name": "Python 3",
   "language": "python",
   "name": "python3"
  },
  "language_info": {
   "codemirror_mode": {
    "name": "ipython",
    "version": 2
   },
   "file_extension": ".py",
   "mimetype": "text/x-python",
   "name": "python",
   "nbconvert_exporter": "python",
   "pygments_lexer": "ipython2",
   "version": "2.7.6"
  }
 },
 "nbformat": 4,
 "nbformat_minor": 5
}
